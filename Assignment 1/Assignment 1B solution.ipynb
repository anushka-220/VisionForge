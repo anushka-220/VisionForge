{
  "nbformat": 4,
  "nbformat_minor": 0,
  "metadata": {
    "colab": {
      "provenance": []
    },
    "kernelspec": {
      "name": "python3",
      "display_name": "Python 3"
    },
    "language_info": {
      "name": "python"
    }
  },
  "cells": [
    {
      "cell_type": "markdown",
      "source": [
        "For this assignment we will use the iris dataset\n",
        "\n",
        "https://drive.google.com/file/d/1R7KuJPFx1ZKig90dB1xLJbpXnJs6y_Ns/view?usp=sharing\n",
        "\n",
        "\n",
        "\n",
        "\n",
        "\n",
        "**INSTRUCTIONS:**\n",
        "\n",
        "Go to File -> Save a Copy in your Drive and edit this notebook in your copy\n",
        "\n",
        "Write your code in following code cells\n",
        "\n",
        "Marks will not be given if the code is plagiarised\n"
      ],
      "metadata": {
        "id": "qgx_VreJNLbY"
      }
    },
    {
      "cell_type": "markdown",
      "source": [
        "1. Mount Google Drive"
      ],
      "metadata": {
        "id": "R_NBtYnOcEoe"
      }
    },
    {
      "cell_type": "code",
      "source": [
        "#code\n",
        "from google.colab import drive\n",
        "drive.mount('/content/drive')"
      ],
      "metadata": {
        "id": "YNrsQ4lKcJ7o",
        "colab": {
          "base_uri": "https://localhost:8080/"
        },
        "outputId": "c3a10410-4248-4f60-af1a-f1258100a667"
      },
      "execution_count": null,
      "outputs": [
        {
          "output_type": "stream",
          "name": "stdout",
          "text": [
            "Mounted at /content/drive\n"
          ]
        }
      ]
    },
    {
      "cell_type": "markdown",
      "source": [
        "2. Load the Dataset"
      ],
      "metadata": {
        "id": "nAoBPPBpbj5l"
      }
    },
    {
      "cell_type": "code",
      "source": [
        "import pandas as pd\n",
        "path=\"/content/drive/MyDrive/Colab Notebooks/Iris_dataset.csv\"\n",
        "df=pd.read_csv(path)\n",
        "print (df)\n"
      ],
      "metadata": {
        "id": "iBN1mCz2ccVK",
        "colab": {
          "base_uri": "https://localhost:8080/"
        },
        "outputId": "9f2dfdac-ec6e-486e-d003-8522dbcc922f"
      },
      "execution_count": null,
      "outputs": [
        {
          "output_type": "stream",
          "name": "stdout",
          "text": [
            "      Id  SepalLengthCm  SepalWidthCm  PetalLengthCm  PetalWidthCm  \\\n",
            "0      1            5.1           3.5            1.4           0.2   \n",
            "1      2            4.9           3.0            1.4           0.2   \n",
            "2      3            4.7           3.2            1.3           0.2   \n",
            "3      4            4.6           3.1            1.5           0.2   \n",
            "4      5            5.0           3.6            1.4           0.2   \n",
            "..   ...            ...           ...            ...           ...   \n",
            "145  146            6.7           3.0            5.2           2.3   \n",
            "146  147            6.3           2.5            5.0           1.9   \n",
            "147  148            6.5           3.0            5.2           2.0   \n",
            "148  149            6.2           3.4            5.4           2.3   \n",
            "149  150            5.9           3.0            5.1           1.8   \n",
            "\n",
            "            Species  \n",
            "0       Iris-setosa  \n",
            "1       Iris-setosa  \n",
            "2       Iris-setosa  \n",
            "3       Iris-setosa  \n",
            "4       Iris-setosa  \n",
            "..              ...  \n",
            "145  Iris-virginica  \n",
            "146  Iris-virginica  \n",
            "147  Iris-virginica  \n",
            "148  Iris-virginica  \n",
            "149  Iris-virginica  \n",
            "\n",
            "[150 rows x 6 columns]\n"
          ]
        }
      ]
    },
    {
      "cell_type": "markdown",
      "source": [
        "3. Import the required Libraries and modules"
      ],
      "metadata": {
        "id": "riIi1oChNXp-"
      }
    },
    {
      "cell_type": "code",
      "source": [
        "import numpy as np\n",
        "import matplotlib.pyplot as plt"
      ],
      "metadata": {
        "id": "WNqfJR4kNtE8"
      },
      "execution_count": null,
      "outputs": []
    },
    {
      "cell_type": "markdown",
      "source": [
        "4. Delete a column"
      ],
      "metadata": {
        "id": "r6OQxxWXNxcg"
      }
    },
    {
      "cell_type": "code",
      "source": [
        "df.pop('Id')"
      ],
      "metadata": {
        "id": "sV6MfFOPNzKT",
        "colab": {
          "base_uri": "https://localhost:8080/"
        },
        "outputId": "bb67d2a0-7372-40be-9c84-aab1b5f6c3a0"
      },
      "execution_count": null,
      "outputs": [
        {
          "output_type": "execute_result",
          "data": {
            "text/plain": [
              "0        1\n",
              "1        2\n",
              "2        3\n",
              "3        4\n",
              "4        5\n",
              "      ... \n",
              "145    146\n",
              "146    147\n",
              "147    148\n",
              "148    149\n",
              "149    150\n",
              "Name: Id, Length: 150, dtype: int64"
            ]
          },
          "metadata": {},
          "execution_count": 4
        }
      ]
    },
    {
      "cell_type": "markdown",
      "source": [
        "5. Display stats about data (example count, mean, std, 25%, 50%, 75%, min, max)"
      ],
      "metadata": {
        "id": "te9iPaFKNzZN"
      }
    },
    {
      "cell_type": "code",
      "source": [
        "stats=df.describe()\n",
        "print(stats)"
      ],
      "metadata": {
        "id": "UWfs11XEN3q3",
        "colab": {
          "base_uri": "https://localhost:8080/"
        },
        "outputId": "0897fb05-2509-451a-b101-e004eb9c0987"
      },
      "execution_count": null,
      "outputs": [
        {
          "output_type": "stream",
          "name": "stdout",
          "text": [
            "       SepalLengthCm  SepalWidthCm  PetalLengthCm  PetalWidthCm\n",
            "count     150.000000    150.000000     150.000000    150.000000\n",
            "mean        5.843333      3.054000       3.758667      1.198667\n",
            "std         0.828066      0.433594       1.764420      0.763161\n",
            "min         4.300000      2.000000       1.000000      0.100000\n",
            "25%         5.100000      2.800000       1.600000      0.300000\n",
            "50%         5.800000      3.000000       4.350000      1.300000\n",
            "75%         6.400000      3.300000       5.100000      1.800000\n",
            "max         7.900000      4.400000       6.900000      2.500000\n"
          ]
        }
      ]
    },
    {
      "cell_type": "markdown",
      "source": [
        "6. Get basic info about datatypes (example float, object)"
      ],
      "metadata": {
        "id": "SelnHwQFN4Jb"
      }
    },
    {
      "cell_type": "code",
      "source": [
        "inform=df.info()\n",
        "print(inform)"
      ],
      "metadata": {
        "id": "fZVEPAW7OtFH",
        "colab": {
          "base_uri": "https://localhost:8080/"
        },
        "outputId": "f88d11a3-6b5c-4559-90ca-371c9842e14d"
      },
      "execution_count": null,
      "outputs": [
        {
          "output_type": "stream",
          "name": "stdout",
          "text": [
            "<class 'pandas.core.frame.DataFrame'>\n",
            "RangeIndex: 150 entries, 0 to 149\n",
            "Data columns (total 5 columns):\n",
            " #   Column         Non-Null Count  Dtype  \n",
            "---  ------         --------------  -----  \n",
            " 0   SepalLengthCm  150 non-null    float64\n",
            " 1   SepalWidthCm   150 non-null    float64\n",
            " 2   PetalLengthCm  150 non-null    float64\n",
            " 3   PetalWidthCm   150 non-null    float64\n",
            " 4   Species        150 non-null    object \n",
            "dtypes: float64(4), object(1)\n",
            "memory usage: 6.0+ KB\n",
            "None\n"
          ]
        }
      ]
    },
    {
      "cell_type": "markdown",
      "source": [
        "7. Display number of samples on each class"
      ],
      "metadata": {
        "id": "ODybDTnfOtcT"
      }
    },
    {
      "cell_type": "code",
      "source": [
        "column1='SepalLengthCm'\n",
        "c1=df[column1].value_counts()\n",
        "print(c1)\n",
        "c2=df['SepalWidthCm'].value_counts()\n",
        "print(c2)\n",
        "c3=df['PetalLengthCm'].value_counts()\n",
        "print(c3)\n",
        "c4=df['PetalWidthCm'].value_counts()\n",
        "print(c4)\n",
        "c5=df['Species'].value_counts()\n",
        "print(c5)"
      ],
      "metadata": {
        "id": "PnGZ6Ry4O2k8",
        "colab": {
          "base_uri": "https://localhost:8080/"
        },
        "outputId": "fab364c1-51a8-48de-ba8f-a020db903ce0"
      },
      "execution_count": null,
      "outputs": [
        {
          "output_type": "stream",
          "name": "stdout",
          "text": [
            "5.0    10\n",
            "5.1     9\n",
            "6.3     9\n",
            "5.7     8\n",
            "6.7     8\n",
            "5.8     7\n",
            "5.5     7\n",
            "6.4     7\n",
            "4.9     6\n",
            "5.4     6\n",
            "6.1     6\n",
            "6.0     6\n",
            "5.6     6\n",
            "4.8     5\n",
            "6.5     5\n",
            "6.2     4\n",
            "7.7     4\n",
            "6.9     4\n",
            "4.6     4\n",
            "5.2     4\n",
            "5.9     3\n",
            "4.4     3\n",
            "7.2     3\n",
            "6.8     3\n",
            "6.6     2\n",
            "4.7     2\n",
            "7.6     1\n",
            "7.4     1\n",
            "7.3     1\n",
            "7.0     1\n",
            "7.1     1\n",
            "5.3     1\n",
            "4.3     1\n",
            "4.5     1\n",
            "7.9     1\n",
            "Name: SepalLengthCm, dtype: int64\n",
            "3.0    26\n",
            "2.8    14\n",
            "3.2    13\n",
            "3.1    12\n",
            "3.4    12\n",
            "2.9    10\n",
            "2.7     9\n",
            "2.5     8\n",
            "3.5     6\n",
            "3.3     6\n",
            "3.8     6\n",
            "2.6     5\n",
            "2.3     4\n",
            "3.7     3\n",
            "2.4     3\n",
            "2.2     3\n",
            "3.6     3\n",
            "3.9     2\n",
            "4.4     1\n",
            "4.0     1\n",
            "4.1     1\n",
            "4.2     1\n",
            "2.0     1\n",
            "Name: SepalWidthCm, dtype: int64\n",
            "1.5    14\n",
            "1.4    12\n",
            "5.1     8\n",
            "4.5     8\n",
            "1.6     7\n",
            "1.3     7\n",
            "5.6     6\n",
            "4.7     5\n",
            "4.9     5\n",
            "4.0     5\n",
            "4.2     4\n",
            "5.0     4\n",
            "4.4     4\n",
            "4.8     4\n",
            "1.7     4\n",
            "3.9     3\n",
            "4.6     3\n",
            "5.7     3\n",
            "4.1     3\n",
            "5.5     3\n",
            "6.1     3\n",
            "5.8     3\n",
            "3.3     2\n",
            "5.4     2\n",
            "6.7     2\n",
            "5.3     2\n",
            "5.9     2\n",
            "6.0     2\n",
            "1.2     2\n",
            "4.3     2\n",
            "1.9     2\n",
            "3.5     2\n",
            "5.2     2\n",
            "3.0     1\n",
            "1.1     1\n",
            "3.7     1\n",
            "3.8     1\n",
            "6.6     1\n",
            "6.3     1\n",
            "1.0     1\n",
            "6.9     1\n",
            "3.6     1\n",
            "6.4     1\n",
            "Name: PetalLengthCm, dtype: int64\n",
            "0.2    28\n",
            "1.3    13\n",
            "1.8    12\n",
            "1.5    12\n",
            "1.4     8\n",
            "2.3     8\n",
            "1.0     7\n",
            "0.4     7\n",
            "0.3     7\n",
            "0.1     6\n",
            "2.1     6\n",
            "2.0     6\n",
            "1.2     5\n",
            "1.9     5\n",
            "1.6     4\n",
            "2.5     3\n",
            "2.2     3\n",
            "2.4     3\n",
            "1.1     3\n",
            "1.7     2\n",
            "0.6     1\n",
            "0.5     1\n",
            "Name: PetalWidthCm, dtype: int64\n",
            "Iris-setosa        50\n",
            "Iris-versicolor    50\n",
            "Iris-virginica     50\n",
            "Name: Species, dtype: int64\n"
          ]
        }
      ]
    },
    {
      "cell_type": "markdown",
      "source": [
        "8. Check for NULL values\n"
      ],
      "metadata": {
        "id": "vlRxymdvO29v"
      }
    },
    {
      "cell_type": "code",
      "source": [
        "nul=df.isnull().sum()\n",
        "print(nul)"
      ],
      "metadata": {
        "id": "6hRAxO3FO5LN",
        "colab": {
          "base_uri": "https://localhost:8080/"
        },
        "outputId": "5e470792-407c-4862-b4a4-c62bbd3cb340"
      },
      "execution_count": null,
      "outputs": [
        {
          "output_type": "stream",
          "name": "stdout",
          "text": [
            "SepalLengthCm    0\n",
            "SepalWidthCm     0\n",
            "PetalLengthCm    0\n",
            "PetalWidthCm     0\n",
            "Species          0\n",
            "dtype: int64\n"
          ]
        }
      ]
    },
    {
      "cell_type": "markdown",
      "source": [
        "9. Plot histogram on Sepal Length"
      ],
      "metadata": {
        "id": "D7J8NUZCO9BP"
      }
    },
    {
      "cell_type": "code",
      "source": [
        "plt.hist(df['SepalLengthCm'],  color='red', edgecolor='black')\n",
        "plt.show()"
      ],
      "metadata": {
        "id": "Le2yz5vuPDIB",
        "colab": {
          "base_uri": "https://localhost:8080/",
          "height": 430
        },
        "outputId": "50d1550a-06fc-4d3b-d1f6-3655ac291a0e"
      },
      "execution_count": null,
      "outputs": [
        {
          "output_type": "display_data",
          "data": {
            "text/plain": [
              "<Figure size 640x480 with 1 Axes>"
            ],
            "image/png": "[encoded data removed]"
          },
          "metadata": {}
        }
      ]
    },
    {
      "cell_type": "markdown",
      "source": [
        "10. Plot histogram on Petal Width"
      ],
      "metadata": {
        "id": "kxhLwEJyP-4b"
      }
    },
    {
      "cell_type": "code",
      "source": [
        "plt.hist(df['PetalWidthCm'], color='blue', edgecolor='white')\n",
        "plt.show()"
      ],
      "metadata": {
        "id": "Ui32FCGTQEyg",
        "colab": {
          "base_uri": "https://localhost:8080/",
          "height": 430
        },
        "outputId": "052f7a57-0132-4d61-a648-fb924b831e32"
      },
      "execution_count": null,
      "outputs": [
        {
          "output_type": "display_data",
          "data": {
            "text/plain": [
              "<Figure size 640x480 with 1 Axes>"
            ],
            "image/png": "[encoded data removed]"
          },
          "metadata": {}
        }
      ]
    },
    {
      "cell_type": "markdown",
      "source": [
        "11. Create list of colors and class labels"
      ],
      "metadata": {
        "id": "f8feOf-cQIg0"
      }
    },
    {
      "cell_type": "code",
      "source": [
        "label=df['Species'].unique()\n",
        "colors=['red','green','blue','yellow']\n",
        "list_labels=list(label)\n",
        "list_color=colors[:len(label)]\n"
      ],
      "metadata": {
        "id": "eb3ezNuYQlO1"
      },
      "execution_count": null,
      "outputs": []
    },
    {
      "cell_type": "markdown",
      "source": [
        "12. Plot Scatter plot on Sepal Width and Petal Width"
      ],
      "metadata": {
        "id": "R-u3BJ56QsW3"
      }
    },
    {
      "cell_type": "code",
      "source": [
        "data1={'Sepal Width':df['SepalWidthCm'],'Petal Width':df['PetalWidthCm'] }\n",
        "d=pd.DataFrame(data=data1)\n",
        "d.plot.scatter(x='Sepal Width', y='Petal Width', c='red')\n",
        "plt.show()\n"
      ],
      "metadata": {
        "id": "UtRi4H_KQ558",
        "colab": {
          "base_uri": "https://localhost:8080/",
          "height": 449
        },
        "outputId": "4e772fd2-78ee-4322-96c4-31957be0e0b5"
      },
      "execution_count": null,
      "outputs": [
        {
          "output_type": "display_data",
          "data": {
            "text/plain": [
              "<Figure size 640x480 with 1 Axes>"
            ],
            "image/png": "[encoded data removed]"
          },
          "metadata": {}
        }
      ]
    },
    {
      "cell_type": "markdown",
      "source": [
        "13. Plot Scatter plot on Sepal Length and Petal Length"
      ],
      "metadata": {
        "id": "cg6tcyO5Q7vz"
      }
    },
    {
      "cell_type": "code",
      "source": [
        "data2={'Sepal Length':df['SepalLengthCm'],'Petal Length':df['PetalLengthCm'] }\n",
        "d1=pd.DataFrame(data=data2)\n",
        "d1.plot.scatter(x='Sepal Length', y='Petal Length', c='red')\n",
        "plt.show()"
      ],
      "metadata": {
        "id": "AbhZ1PE2RMDg",
        "colab": {
          "base_uri": "https://localhost:8080/",
          "height": 449
        },
        "outputId": "f6ab62ca-e784-42ba-c5f6-bd26e00ed96b"
      },
      "execution_count": null,
      "outputs": [
        {
          "output_type": "display_data",
          "data": {
            "text/plain": [
              "<Figure size 640x480 with 1 Axes>"
            ],
            "image/png": "[encoded data removed]"
          },
          "metadata": {}
        }
      ]
    },
    {
      "cell_type": "markdown",
      "source": [
        "14. Display Correlation Matrix"
      ],
      "metadata": {
        "id": "gMvM-atFRQs0"
      }
    },
    {
      "cell_type": "code",
      "source": [
        "cor=df.corr()\n",
        "print(cor)"
      ],
      "metadata": {
        "id": "ixkcb3_YgROT",
        "colab": {
          "base_uri": "https://localhost:8080/"
        },
        "outputId": "b7cc976e-13a1-459f-ab75-db9dcd57e469"
      },
      "execution_count": null,
      "outputs": [
        {
          "output_type": "stream",
          "name": "stdout",
          "text": [
            "               SepalLengthCm  SepalWidthCm  PetalLengthCm  PetalWidthCm\n",
            "SepalLengthCm       1.000000     -0.109369       0.871754      0.817954\n",
            "SepalWidthCm       -0.109369      1.000000      -0.420516     -0.356544\n",
            "PetalLengthCm       0.871754     -0.420516       1.000000      0.962757\n",
            "PetalWidthCm        0.817954     -0.356544       0.962757      1.000000\n"
          ]
        },
        {
          "output_type": "stream",
          "name": "stderr",
          "text": [
            "<ipython-input-15-e4907a188b96>:1: FutureWarning: The default value of numeric_only in DataFrame.corr is deprecated. In a future version, it will default to False. Select only valid columns or specify the value of numeric_only to silence this warning.\n",
            "  cor=df.corr()\n"
          ]
        }
      ]
    }
  ]
}